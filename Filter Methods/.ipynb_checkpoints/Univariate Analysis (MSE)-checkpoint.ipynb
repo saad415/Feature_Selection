{
 "cells": [
  {
   "cell_type": "code",
   "execution_count": 8,
   "id": "c61c52e8",
   "metadata": {},
   "outputs": [],
   "source": [
    "from sklearn.model_selection import train_test_split\n",
    "from sklearn.ensemble import RandomForestRegressor\n",
    "from sklearn.metrics import mean_squared_error\n",
    "import pandas as pd\n",
    "import matplotlib.pyplot as plt\n",
    "%matplotlib inline"
   ]
  },
  {
   "cell_type": "code",
   "execution_count": 2,
   "id": "34bce03f",
   "metadata": {},
   "outputs": [
    {
     "data": {
      "text/html": [
       "<div>\n",
       "<style scoped>\n",
       "    .dataframe tbody tr th:only-of-type {\n",
       "        vertical-align: middle;\n",
       "    }\n",
       "\n",
       "    .dataframe tbody tr th {\n",
       "        vertical-align: top;\n",
       "    }\n",
       "\n",
       "    .dataframe thead th {\n",
       "        text-align: right;\n",
       "    }\n",
       "</style>\n",
       "<table border=\"1\" class=\"dataframe\">\n",
       "  <thead>\n",
       "    <tr style=\"text-align: right;\">\n",
       "      <th></th>\n",
       "      <th>MSSubClass</th>\n",
       "      <th>LotFrontage</th>\n",
       "      <th>LotArea</th>\n",
       "      <th>OverallQual</th>\n",
       "      <th>OverallCond</th>\n",
       "      <th>YearBuilt</th>\n",
       "      <th>YearRemodAdd</th>\n",
       "      <th>MasVnrArea</th>\n",
       "      <th>BsmtFinSF1</th>\n",
       "      <th>BsmtFinSF2</th>\n",
       "      <th>...</th>\n",
       "      <th>WoodDeckSF</th>\n",
       "      <th>OpenPorchSF</th>\n",
       "      <th>EnclosedPorch</th>\n",
       "      <th>3SsnPorch</th>\n",
       "      <th>ScreenPorch</th>\n",
       "      <th>PoolArea</th>\n",
       "      <th>MiscVal</th>\n",
       "      <th>MoSold</th>\n",
       "      <th>YrSold</th>\n",
       "      <th>SalePrice</th>\n",
       "    </tr>\n",
       "  </thead>\n",
       "  <tbody>\n",
       "    <tr>\n",
       "      <th>0</th>\n",
       "      <td>60</td>\n",
       "      <td>65.0</td>\n",
       "      <td>8450</td>\n",
       "      <td>7</td>\n",
       "      <td>5</td>\n",
       "      <td>2003</td>\n",
       "      <td>2003</td>\n",
       "      <td>196.0</td>\n",
       "      <td>706</td>\n",
       "      <td>0</td>\n",
       "      <td>...</td>\n",
       "      <td>0</td>\n",
       "      <td>61</td>\n",
       "      <td>0</td>\n",
       "      <td>0</td>\n",
       "      <td>0</td>\n",
       "      <td>0</td>\n",
       "      <td>0</td>\n",
       "      <td>2</td>\n",
       "      <td>2008</td>\n",
       "      <td>208500</td>\n",
       "    </tr>\n",
       "    <tr>\n",
       "      <th>1</th>\n",
       "      <td>20</td>\n",
       "      <td>80.0</td>\n",
       "      <td>9600</td>\n",
       "      <td>6</td>\n",
       "      <td>8</td>\n",
       "      <td>1976</td>\n",
       "      <td>1976</td>\n",
       "      <td>0.0</td>\n",
       "      <td>978</td>\n",
       "      <td>0</td>\n",
       "      <td>...</td>\n",
       "      <td>298</td>\n",
       "      <td>0</td>\n",
       "      <td>0</td>\n",
       "      <td>0</td>\n",
       "      <td>0</td>\n",
       "      <td>0</td>\n",
       "      <td>0</td>\n",
       "      <td>5</td>\n",
       "      <td>2007</td>\n",
       "      <td>181500</td>\n",
       "    </tr>\n",
       "    <tr>\n",
       "      <th>2</th>\n",
       "      <td>60</td>\n",
       "      <td>68.0</td>\n",
       "      <td>11250</td>\n",
       "      <td>7</td>\n",
       "      <td>5</td>\n",
       "      <td>2001</td>\n",
       "      <td>2002</td>\n",
       "      <td>162.0</td>\n",
       "      <td>486</td>\n",
       "      <td>0</td>\n",
       "      <td>...</td>\n",
       "      <td>0</td>\n",
       "      <td>42</td>\n",
       "      <td>0</td>\n",
       "      <td>0</td>\n",
       "      <td>0</td>\n",
       "      <td>0</td>\n",
       "      <td>0</td>\n",
       "      <td>9</td>\n",
       "      <td>2008</td>\n",
       "      <td>223500</td>\n",
       "    </tr>\n",
       "    <tr>\n",
       "      <th>3</th>\n",
       "      <td>70</td>\n",
       "      <td>60.0</td>\n",
       "      <td>9550</td>\n",
       "      <td>7</td>\n",
       "      <td>5</td>\n",
       "      <td>1915</td>\n",
       "      <td>1970</td>\n",
       "      <td>0.0</td>\n",
       "      <td>216</td>\n",
       "      <td>0</td>\n",
       "      <td>...</td>\n",
       "      <td>0</td>\n",
       "      <td>35</td>\n",
       "      <td>272</td>\n",
       "      <td>0</td>\n",
       "      <td>0</td>\n",
       "      <td>0</td>\n",
       "      <td>0</td>\n",
       "      <td>2</td>\n",
       "      <td>2006</td>\n",
       "      <td>140000</td>\n",
       "    </tr>\n",
       "    <tr>\n",
       "      <th>4</th>\n",
       "      <td>60</td>\n",
       "      <td>84.0</td>\n",
       "      <td>14260</td>\n",
       "      <td>8</td>\n",
       "      <td>5</td>\n",
       "      <td>2000</td>\n",
       "      <td>2000</td>\n",
       "      <td>350.0</td>\n",
       "      <td>655</td>\n",
       "      <td>0</td>\n",
       "      <td>...</td>\n",
       "      <td>192</td>\n",
       "      <td>84</td>\n",
       "      <td>0</td>\n",
       "      <td>0</td>\n",
       "      <td>0</td>\n",
       "      <td>0</td>\n",
       "      <td>0</td>\n",
       "      <td>12</td>\n",
       "      <td>2008</td>\n",
       "      <td>250000</td>\n",
       "    </tr>\n",
       "  </tbody>\n",
       "</table>\n",
       "<p>5 rows × 37 columns</p>\n",
       "</div>"
      ],
      "text/plain": [
       "   MSSubClass  LotFrontage  LotArea  OverallQual  OverallCond  YearBuilt  \\\n",
       "0          60         65.0     8450            7            5       2003   \n",
       "1          20         80.0     9600            6            8       1976   \n",
       "2          60         68.0    11250            7            5       2001   \n",
       "3          70         60.0     9550            7            5       1915   \n",
       "4          60         84.0    14260            8            5       2000   \n",
       "\n",
       "   YearRemodAdd  MasVnrArea  BsmtFinSF1  BsmtFinSF2  ...  WoodDeckSF  \\\n",
       "0          2003       196.0         706           0  ...           0   \n",
       "1          1976         0.0         978           0  ...         298   \n",
       "2          2002       162.0         486           0  ...           0   \n",
       "3          1970         0.0         216           0  ...           0   \n",
       "4          2000       350.0         655           0  ...         192   \n",
       "\n",
       "   OpenPorchSF  EnclosedPorch  3SsnPorch  ScreenPorch  PoolArea  MiscVal  \\\n",
       "0           61              0          0            0         0        0   \n",
       "1            0              0          0            0         0        0   \n",
       "2           42              0          0            0         0        0   \n",
       "3           35            272          0            0         0        0   \n",
       "4           84              0          0            0         0        0   \n",
       "\n",
       "   MoSold  YrSold  SalePrice  \n",
       "0       2    2008     208500  \n",
       "1       5    2007     181500  \n",
       "2       9    2008     223500  \n",
       "3       2    2006     140000  \n",
       "4      12    2008     250000  \n",
       "\n",
       "[5 rows x 37 columns]"
      ]
     },
     "execution_count": 2,
     "metadata": {},
     "output_type": "execute_result"
    }
   ],
   "source": [
    "df = pd.read_csv(\"saleprice.csv\")\n",
    "\n",
    "df.head()"
   ]
  },
  {
   "cell_type": "code",
   "execution_count": 3,
   "id": "1a8482e0",
   "metadata": {},
   "outputs": [
    {
     "data": {
      "text/plain": [
       "(1460, 37)"
      ]
     },
     "execution_count": 3,
     "metadata": {},
     "output_type": "execute_result"
    }
   ],
   "source": [
    "df.shape"
   ]
  },
  {
   "cell_type": "code",
   "execution_count": 4,
   "id": "a1b56196",
   "metadata": {},
   "outputs": [
    {
     "data": {
      "text/plain": [
       "MSSubClass         0\n",
       "LotFrontage      259\n",
       "LotArea            0\n",
       "OverallQual        0\n",
       "OverallCond        0\n",
       "YearBuilt          0\n",
       "YearRemodAdd       0\n",
       "MasVnrArea         8\n",
       "BsmtFinSF1         0\n",
       "BsmtFinSF2         0\n",
       "BsmtUnfSF          0\n",
       "TotalBsmtSF        0\n",
       "1stFlrSF           0\n",
       "2ndFlrSF           0\n",
       "LowQualFinSF       0\n",
       "GrLivArea          0\n",
       "BsmtFullBath       0\n",
       "BsmtHalfBath       0\n",
       "FullBath           0\n",
       "HalfBath           0\n",
       "BedroomAbvGr       0\n",
       "KitchenAbvGr       0\n",
       "TotRmsAbvGrd       0\n",
       "Fireplaces         0\n",
       "GarageYrBlt       81\n",
       "GarageCars         0\n",
       "GarageArea         0\n",
       "WoodDeckSF         0\n",
       "OpenPorchSF        0\n",
       "EnclosedPorch      0\n",
       "3SsnPorch          0\n",
       "ScreenPorch        0\n",
       "PoolArea           0\n",
       "MiscVal            0\n",
       "MoSold             0\n",
       "YrSold             0\n",
       "SalePrice          0\n",
       "dtype: int64"
      ]
     },
     "execution_count": 4,
     "metadata": {},
     "output_type": "execute_result"
    }
   ],
   "source": [
    "df.isna().sum()"
   ]
  },
  {
   "cell_type": "code",
   "execution_count": 6,
   "id": "80d6d429",
   "metadata": {},
   "outputs": [
    {
     "data": {
      "text/plain": [
       "MSSubClass       0\n",
       "LotFrontage      0\n",
       "LotArea          0\n",
       "OverallQual      0\n",
       "OverallCond      0\n",
       "YearBuilt        0\n",
       "YearRemodAdd     0\n",
       "MasVnrArea       0\n",
       "BsmtFinSF1       0\n",
       "BsmtFinSF2       0\n",
       "BsmtUnfSF        0\n",
       "TotalBsmtSF      0\n",
       "1stFlrSF         0\n",
       "2ndFlrSF         0\n",
       "LowQualFinSF     0\n",
       "GrLivArea        0\n",
       "BsmtFullBath     0\n",
       "BsmtHalfBath     0\n",
       "FullBath         0\n",
       "HalfBath         0\n",
       "BedroomAbvGr     0\n",
       "KitchenAbvGr     0\n",
       "TotRmsAbvGrd     0\n",
       "Fireplaces       0\n",
       "GarageYrBlt      0\n",
       "GarageCars       0\n",
       "GarageArea       0\n",
       "WoodDeckSF       0\n",
       "OpenPorchSF      0\n",
       "EnclosedPorch    0\n",
       "3SsnPorch        0\n",
       "ScreenPorch      0\n",
       "PoolArea         0\n",
       "MiscVal          0\n",
       "MoSold           0\n",
       "YrSold           0\n",
       "SalePrice        0\n",
       "dtype: int64"
      ]
     },
     "execution_count": 6,
     "metadata": {},
     "output_type": "execute_result"
    }
   ],
   "source": [
    "df.dropna(inplace=True)\n",
    "df.isna().sum()"
   ]
  },
  {
   "cell_type": "code",
   "execution_count": 7,
   "id": "1b22e685",
   "metadata": {},
   "outputs": [],
   "source": [
    "X = df.iloc[:, 0:36]\n",
    "y = df.iloc[:, -1]"
   ]
  },
  {
   "cell_type": "code",
   "execution_count": 9,
   "id": "de4b6435",
   "metadata": {},
   "outputs": [],
   "source": [
    "X_train, X_test, y_train, y_test = train_test_split(X, y, test_size=0.3, \n",
    "                                                   random_state=123)"
   ]
  },
  {
   "cell_type": "code",
   "execution_count": null,
   "id": "28d275c0",
   "metadata": {},
   "outputs": [],
   "source": [
    "# We calculate the MSE of each feature itereatively for predicting the dependent variable"
   ]
  },
  {
   "cell_type": "code",
   "execution_count": 10,
   "id": "a5dfa85c",
   "metadata": {},
   "outputs": [],
   "source": [
    "\n",
    "mse_values = []\n",
    "for feature in X_train.columns:\n",
    "    rf = RandomForestRegressor()\n",
    "    rf.fit(X_train, y_train)\n",
    "    y_pred = rf.predict(X_test)\n",
    "    mse_values.append(mean_squared_error(y_test, y_pred))"
   ]
  },
  {
   "cell_type": "code",
   "execution_count": 13,
   "id": "62dbc6d1",
   "metadata": {},
   "outputs": [
    {
     "name": "stdout",
     "output_type": "stream",
     "text": [
      "[1066322123.519987, 1060403214.175016, 1016298909.5559169, 1049380846.2760031, 1054232113.7664998, 945768168.4696168, 1089202342.3587327, 1029854861.783645, 1008886740.883162, 1040190018.2207783, 1044172535.2847545, 1000169734.4436506, 989238999.206904, 1009053166.6807872, 1009943891.6291001, 1020429152.5127449, 992286795.150814, 981894100.2291636, 1012090029.988133, 1030181259.4743493, 984418636.739041, 1067656957.4634959, 1004819604.2156563, 1025317453.8892602, 1050709985.5148473, 1041815848.9024003, 950761710.545401, 1023354495.230635, 1052400521.3779716, 1024804492.8374326, 971830452.1373549, 1012102116.8752047, 986770533.527628, 1015750396.1459686, 940975399.9492809, 1024187835.6926248]\n"
     ]
    }
   ],
   "source": [
    "print(mse_values)"
   ]
  },
  {
   "cell_type": "code",
   "execution_count": 15,
   "id": "b2dc01b5",
   "metadata": {},
   "outputs": [
    {
     "name": "stdout",
     "output_type": "stream",
     "text": [
      "0     1.066322e+09\n",
      "1     1.060403e+09\n",
      "2     1.016299e+09\n",
      "3     1.049381e+09\n",
      "4     1.054232e+09\n",
      "5     9.457682e+08\n",
      "6     1.089202e+09\n",
      "7     1.029855e+09\n",
      "8     1.008887e+09\n",
      "9     1.040190e+09\n",
      "10    1.044173e+09\n",
      "11    1.000170e+09\n",
      "12    9.892390e+08\n",
      "13    1.009053e+09\n",
      "14    1.009944e+09\n",
      "15    1.020429e+09\n",
      "16    9.922868e+08\n",
      "17    9.818941e+08\n",
      "18    1.012090e+09\n",
      "19    1.030181e+09\n",
      "20    9.844186e+08\n",
      "21    1.067657e+09\n",
      "22    1.004820e+09\n",
      "23    1.025317e+09\n",
      "24    1.050710e+09\n",
      "25    1.041816e+09\n",
      "26    9.507617e+08\n",
      "27    1.023354e+09\n",
      "28    1.052401e+09\n",
      "29    1.024804e+09\n",
      "30    9.718305e+08\n",
      "31    1.012102e+09\n",
      "32    9.867705e+08\n",
      "33    1.015750e+09\n",
      "34    9.409754e+08\n",
      "35    1.024188e+09\n",
      "dtype: float64\n"
     ]
    }
   ],
   "source": [
    "mse_values = pd.Series(mse_values)\n",
    "print(mse_values)"
   ]
  },
  {
   "cell_type": "code",
   "execution_count": 17,
   "id": "99d618f5",
   "metadata": {},
   "outputs": [
    {
     "name": "stdout",
     "output_type": "stream",
     "text": [
      "MSSubClass       1.066322e+09\n",
      "LotFrontage      1.060403e+09\n",
      "LotArea          1.016299e+09\n",
      "OverallQual      1.049381e+09\n",
      "OverallCond      1.054232e+09\n",
      "YearBuilt        9.457682e+08\n",
      "YearRemodAdd     1.089202e+09\n",
      "MasVnrArea       1.029855e+09\n",
      "BsmtFinSF1       1.008887e+09\n",
      "BsmtFinSF2       1.040190e+09\n",
      "BsmtUnfSF        1.044173e+09\n",
      "TotalBsmtSF      1.000170e+09\n",
      "1stFlrSF         9.892390e+08\n",
      "2ndFlrSF         1.009053e+09\n",
      "LowQualFinSF     1.009944e+09\n",
      "GrLivArea        1.020429e+09\n",
      "BsmtFullBath     9.922868e+08\n",
      "BsmtHalfBath     9.818941e+08\n",
      "FullBath         1.012090e+09\n",
      "HalfBath         1.030181e+09\n",
      "BedroomAbvGr     9.844186e+08\n",
      "KitchenAbvGr     1.067657e+09\n",
      "TotRmsAbvGrd     1.004820e+09\n",
      "Fireplaces       1.025317e+09\n",
      "GarageYrBlt      1.050710e+09\n",
      "GarageCars       1.041816e+09\n",
      "GarageArea       9.507617e+08\n",
      "WoodDeckSF       1.023354e+09\n",
      "OpenPorchSF      1.052401e+09\n",
      "EnclosedPorch    1.024804e+09\n",
      "3SsnPorch        9.718305e+08\n",
      "ScreenPorch      1.012102e+09\n",
      "PoolArea         9.867705e+08\n",
      "MiscVal          1.015750e+09\n",
      "MoSold           9.409754e+08\n",
      "YrSold           1.024188e+09\n",
      "dtype: float64\n"
     ]
    }
   ],
   "source": [
    "mse_values.index = X_train.columns\n",
    "print(mse_values)"
   ]
  },
  {
   "cell_type": "code",
   "execution_count": 18,
   "id": "289c16b2",
   "metadata": {},
   "outputs": [
    {
     "data": {
      "text/plain": [
       "YearRemodAdd     1.089202e+09\n",
       "KitchenAbvGr     1.067657e+09\n",
       "MSSubClass       1.066322e+09\n",
       "LotFrontage      1.060403e+09\n",
       "OverallCond      1.054232e+09\n",
       "OpenPorchSF      1.052401e+09\n",
       "GarageYrBlt      1.050710e+09\n",
       "OverallQual      1.049381e+09\n",
       "BsmtUnfSF        1.044173e+09\n",
       "GarageCars       1.041816e+09\n",
       "BsmtFinSF2       1.040190e+09\n",
       "HalfBath         1.030181e+09\n",
       "MasVnrArea       1.029855e+09\n",
       "Fireplaces       1.025317e+09\n",
       "EnclosedPorch    1.024804e+09\n",
       "YrSold           1.024188e+09\n",
       "WoodDeckSF       1.023354e+09\n",
       "GrLivArea        1.020429e+09\n",
       "LotArea          1.016299e+09\n",
       "MiscVal          1.015750e+09\n",
       "ScreenPorch      1.012102e+09\n",
       "FullBath         1.012090e+09\n",
       "LowQualFinSF     1.009944e+09\n",
       "2ndFlrSF         1.009053e+09\n",
       "BsmtFinSF1       1.008887e+09\n",
       "TotRmsAbvGrd     1.004820e+09\n",
       "TotalBsmtSF      1.000170e+09\n",
       "BsmtFullBath     9.922868e+08\n",
       "1stFlrSF         9.892390e+08\n",
       "PoolArea         9.867705e+08\n",
       "BedroomAbvGr     9.844186e+08\n",
       "BsmtHalfBath     9.818941e+08\n",
       "3SsnPorch        9.718305e+08\n",
       "GarageArea       9.507617e+08\n",
       "YearBuilt        9.457682e+08\n",
       "MoSold           9.409754e+08\n",
       "dtype: float64"
      ]
     },
     "execution_count": 18,
     "metadata": {},
     "output_type": "execute_result"
    }
   ],
   "source": [
    "\n",
    "mse_values.sort_values(ascending=False)"
   ]
  },
  {
   "cell_type": "code",
   "execution_count": 21,
   "id": "c5165df6",
   "metadata": {},
   "outputs": [
    {
     "data": {
      "text/plain": [
       "<AxesSubplot:>"
      ]
     },
     "execution_count": 21,
     "metadata": {},
     "output_type": "execute_result"
    },
    {
     "data": {
      "image/png": "[encoded data removed]",
      "text/plain": [
       "<Figure size 1000x2000 with 1 Axes>"
      ]
     },
     "metadata": {},
     "output_type": "display_data"
    }
   ],
   "source": [
    "\n",
    "mse_values.sort_values(ascending=False).plot.bar(figsize=(10,20))"
   ]
  },
  {
   "cell_type": "markdown",
   "id": "ecf2842e",
   "metadata": {},
   "source": [
    "# We Select the features which have less MSE while predicting the dependent variable "
   ]
  },
  {
   "cell_type": "code",
   "execution_count": null,
   "id": "ed869add",
   "metadata": {},
   "outputs": [],
   "source": []
  }
 ],
 "metadata": {
  "kernelspec": {
   "display_name": "Python 3 (ipykernel)",
   "language": "python",
   "name": "python3"
  },
  "language_info": {
   "codemirror_mode": {
    "name": "ipython",
    "version": 3
   },
   "file_extension": ".py",
   "mimetype": "text/x-python",
   "name": "python",
   "nbconvert_exporter": "python",
   "pygments_lexer": "ipython3",
   "version": "3.9.13"
  }
 },
 "nbformat": 4,
 "nbformat_minor": 5
}
